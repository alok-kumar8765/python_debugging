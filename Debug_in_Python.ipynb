{
  "nbformat": 4,
  "nbformat_minor": 0,
  "metadata": {
    "colab": {
      "provenance": [],
      "authorship_tag": "ABX9TyPZj1lJT8Vx8vzYs8iO3VRk",
      "include_colab_link": true
    },
    "kernelspec": {
      "name": "python3",
      "display_name": "Python 3"
    },
    "language_info": {
      "name": "python"
    }
  },
  "cells": [
    {
      "cell_type": "markdown",
      "metadata": {
        "id": "view-in-github",
        "colab_type": "text"
      },
      "source": [
        "<a href=\"https://colab.research.google.com/github/alok-techqware/python_debugging/blob/main/Debug_in_Python.ipynb\" target=\"_parent\"><img src=\"https://colab.research.google.com/assets/colab-badge.svg\" alt=\"Open In Colab\"/></a>"
      ]
    },
    {
      "cell_type": "markdown",
      "source": [
        "# **Motivation**\n",
        "\n",
        "\n",
        "```\n",
        "# Errors are almost inevitable while programming. In fact, it is rightly said that a programmer spends a significant amount of their time debugging to make their code error-free.\n",
        "\n",
        "While debugging, using print() statements to understand the flow of the pipeline and spot unexpected behavior is undoubtedly the most widely adopted approach.\n",
        "\n",
        "However, using print() has numerous caveats, such as:\n",
        "\n",
        "Print statements are usually intended to display an output to the user. If the programmer uses print() to debug, after debugging is over, the programmer should be cautious of removing only those specific print() statements that were intended for debugging.\n",
        "Often, during debugging, you may print multiple variables one after the other. In such cases, the programmer has to manually format the output to enhance its readability.\n",
        "```\n",
        "\n",
        "\n",
        "1.   Sometimes, the programmer might also be interested in printing the line number, the name of the function and its input, etc., which adds to the complexity of writing long/many print() statements.\n",
        "\n",
        "2.   In most situations, the codebase is not restricted to just one file. Instead, there are multiple files that form the pipeline. In such cases, one may be interested in displaying the name of the file as well during debugging, which can be a hassle with print().\n",
        "\n",
        "# ***IceCream***\n",
        "IceCream is a Python library that makes debugging effortless and readable with minimal code.\n",
        "\n",
        "Its popular features include printing expressions, variable names, function names, line numbers, filenames, and many more — which we will discuss in this blog.\n",
        "\n",
        "```\n",
        " ***Installing IceCream***\n",
        " You can install the icecream library using pip.\n",
        " !pip install icecream\n",
        "```\n",
        "\n",
        "# ***Import IceCream***\n",
        "The standard convention for using this library is to import the ic module as follows:\n",
        "```\n",
        "  from icecream import ic\n",
        "```\n",
        "\n",
        "## ***Getting Started With IceCream***\n",
        "\n",
        "\n",
        "\n",
        "\n"
      ],
      "metadata": {
        "id": "Z3UyZcGNsoaR"
      }
    },
    {
      "cell_type": "code",
      "execution_count": 1,
      "metadata": {
        "colab": {
          "base_uri": "https://localhost:8080/"
        },
        "id": "zc4a7k2fqVvb",
        "outputId": "32a0c505-5d91-44b6-f3bd-c6089a602d42"
      },
      "outputs": [
        {
          "output_type": "stream",
          "name": "stdout",
          "text": [
            "Looking in indexes: https://pypi.org/simple, https://us-python.pkg.dev/colab-wheels/public/simple/\n",
            "Collecting icecream\n",
            "  Downloading icecream-2.1.3-py2.py3-none-any.whl (8.4 kB)\n",
            "Collecting colorama>=0.3.9 (from icecream)\n",
            "  Downloading colorama-0.4.6-py2.py3-none-any.whl (25 kB)\n",
            "Requirement already satisfied: pygments>=2.2.0 in /usr/local/lib/python3.10/dist-packages (from icecream) (2.14.0)\n",
            "Collecting executing>=0.3.1 (from icecream)\n",
            "  Downloading executing-1.2.0-py2.py3-none-any.whl (24 kB)\n",
            "Collecting asttokens>=2.0.1 (from icecream)\n",
            "  Downloading asttokens-2.2.1-py2.py3-none-any.whl (26 kB)\n",
            "Requirement already satisfied: six in /usr/local/lib/python3.10/dist-packages (from asttokens>=2.0.1->icecream) (1.16.0)\n",
            "Installing collected packages: executing, colorama, asttokens, icecream\n",
            "Successfully installed asttokens-2.2.1 colorama-0.4.6 executing-1.2.0 icecream-2.1.3\n"
          ]
        }
      ],
      "source": [
        "!pip install icecream\n"
      ]
    },
    {
      "cell_type": "code",
      "source": [
        "from icecream import ic\n"
      ],
      "metadata": {
        "id": "DsjJkUdYqiB0"
      },
      "execution_count": 2,
      "outputs": []
    },
    {
      "cell_type": "code",
      "source": [
        "def func(num):\n",
        "    return num * 2\n",
        "\n",
        "ic(func(3))\n",
        "print(func(3))"
      ],
      "metadata": {
        "colab": {
          "base_uri": "https://localhost:8080/"
        },
        "id": "Bob3Eqevqj_T",
        "outputId": "e9023ced-cc6f-4609-b24e-9cb0e0941765"
      },
      "execution_count": 4,
      "outputs": [
        {
          "output_type": "stream",
          "name": "stderr",
          "text": [
            "ic| func(3): 6\n"
          ]
        },
        {
          "output_type": "stream",
          "name": "stdout",
          "text": [
            "6\n"
          ]
        }
      ]
    },
    {
      "cell_type": "code",
      "source": [
        "sample_dict = {1:\"A\", 2:\"B\", 3:\"C\"}\n",
        "\n",
        "ic(sample_dict[1])\n",
        "print(sample_dict[1])"
      ],
      "metadata": {
        "colab": {
          "base_uri": "https://localhost:8080/"
        },
        "id": "rzAvxPSyqymq",
        "outputId": "361504d8-6e22-4a18-9c2a-812f02733ae9"
      },
      "execution_count": 5,
      "outputs": [
        {
          "output_type": "stream",
          "name": "stderr",
          "text": [
            "ic| sample_dict[1]: 'A'\n"
          ]
        },
        {
          "output_type": "stream",
          "name": "stdout",
          "text": [
            "A\n"
          ]
        }
      ]
    },
    {
      "cell_type": "code",
      "source": [
        "def func(input_num):\n",
        "    if input_num == 1:\n",
        "        print(\"If Executed!\")\n",
        "        ic()\n",
        "    else:\n",
        "        print(\"Else Executed!\")\n",
        "        ic()\n",
        "func(1)"
      ],
      "metadata": {
        "colab": {
          "base_uri": "https://localhost:8080/"
        },
        "id": "gH-D21QnrApr",
        "outputId": "8e9853d5-7403-4f54-e1a9-5fc7a2bdbaba"
      },
      "execution_count": 8,
      "outputs": [
        {
          "output_type": "stream",
          "name": "stderr",
          "text": [
            "ic| <ipython-input-8-6dbfb118bdde>:4 in func() at 05:16:17.149\n"
          ]
        },
        {
          "output_type": "stream",
          "name": "stdout",
          "text": [
            "If Executed!\n"
          ]
        }
      ]
    },
    {
      "cell_type": "code",
      "source": [
        "ic.configureOutput(prefix='ic debug| -> ')\n",
        "\n",
        "ic(\"A custom prefix\")\n"
      ],
      "metadata": {
        "colab": {
          "base_uri": "https://localhost:8080/",
          "height": 53
        },
        "id": "g-XjUD-pr9Jc",
        "outputId": "7b9dc742-2e9c-4263-96fe-2dbf96a15431"
      },
      "execution_count": 11,
      "outputs": [
        {
          "output_type": "stream",
          "name": "stderr",
          "text": [
            "ic debug| -> 'A custom prefix'\n"
          ]
        },
        {
          "output_type": "execute_result",
          "data": {
            "text/plain": [
              "'A custom prefix'"
            ],
            "application/vnd.google.colaboratory.intrinsic+json": {
              "type": "string"
            }
          },
          "metadata": {},
          "execution_count": 11
        }
      ]
    },
    {
      "cell_type": "markdown",
      "source": [
        "# **Using IceCream Project Wide**\n",
        "\n",
        "Next, you might wonder that does one need to import the library in every python file? Of course not!\n",
        "\n",
        "To make the methods available in all project files, import the install module from icecream in the root file, as shown below:\n",
        "\n",
        "```\n",
        "## main_file.py\n",
        "\n",
        "  from icecream import install\n",
        "  install()\n",
        "\n",
        "  from help_file import func\n",
        "  func(2)\n",
        "```\n",
        "\n",
        "```\n",
        "  ## help_file.py\n",
        "\n",
        "  def func(num):\n",
        "      ic(num)\n",
        "      return 2*num\n",
        "```\n",
        "\n",
        "With install, ic() gets available project-wide."
      ],
      "metadata": {
        "id": "AVicXOavugFd"
      }
    }
  ]
}